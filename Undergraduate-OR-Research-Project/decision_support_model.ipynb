{
 "cells": [
  {
   "cell_type": "markdown",
   "metadata": {},
   "source": [
    "# Table of contents \n",
    "1. [Notation](#notation)\n",
    "2. [Pseudo Code](#pseudo)\n",
    "3. [Import Packages](#import_models)\n",
    "4. [Model](#model)\n"
   ]
  },
  {
   "cell_type": "markdown",
   "metadata": {},
   "source": [
    "## Notation <a name=\"notation\"></a>"
   ]
  },
  {
   "cell_type": "markdown",
   "metadata": {},
   "source": [
    "- $A_0(n,p)$ is the assessment of item $n$ for patient $p$ at the beginning of the treatment (timepoint 0). This is a numerical value: 0, 1, 2, or 3, with a higher number indicating a greater need.\n",
    "- $A_1(n,p)$ is the assessment of item $n$ for patient $p$ at the end of the treatment (timepoint 1). This is a numerical value: 0, 1, 2, or 3, with a higher number indicating a greater need."
   ]
  },
  {
   "cell_type": "markdown",
   "metadata": {},
   "source": [
    "## Pseudo Code <a name=\"pseudo\"></a>"
   ]
  },
  {
   "cell_type": "markdown",
   "metadata": {},
   "source": [
    "+ For iteration **i** in $\\{1,2,3,...iter_num\\}$:\n",
    "  1. We have history data set with *`IBHS_num`* patients who received IBHS, and *`FBMHS_num`* patients who received FBMHS, and *`num_items`* items. Next, we randomly divide the data with each treatment into *`batch_num`* batches with \n",
    "  \n",
    "      - `ibhs_batch_size` = floor(*`IBHS_num`*/*`batch_num`*)  (except one group with size = *`IBHS_num`*  - *`batch_num`* $\\times$ `ibhs_batch_size`)\n",
    "      - `fbmhs_batch_size` = floor(*`FBMHS_num`*/*`batch_num`*)  (except one group with size = *`FBMHS_num`*  - *`batch_num`* $\\times$ `fbmhs_batch_size`)\n",
    "  1. For batch $j$ in $\\{1,2,3,..., $*`batch_num`*$\\}$: \n",
    "      1. Consider $ibhs\\_batch_j$, $fbmhs\\_batch_j$\n",
    "      2. We initiate item $x^{i}_{nj} \\in[-1,1]$ for iteration **i**, item **n** and batch **j**, where $-1$ means the item improves with IBHS and $1$ means the item improves with FBMHS. 0 means item either improves with both treatments equally or does not improve with any treatments.\n",
    "      3. For each patient $p$ in $ibhs\\_batch_j$ and $fbmhs\\_batch_j$, define patient score $x^{i}_{pj}$ for iteration **i**, patient **p** in batch **j**\n",
    "      $$x^{i}_{pj} = \\frac{1}{3\\cdot (\\text{num_items})}\\sum_{n\\in num\\_items} x^{i}_{nj}  \\cdot (A_0(n,p) - A_1(n,p)) \\in [-1,1]$$ \n",
    "      where $(A_0(n,p) - A_1(n,p)) \\in \\{0,1,2,3\\}$ is the intial score of item $n$ for patient $p$ - final score of item $n$ for patient $p$\n",
    "      \n",
    "      **Objective:**\n",
    "      $$max\\frac{1}{|\\text{ibhs_batch_size}|} \\sum_{p \\in ibhs\\_batch_{j}}x^{i}_{pj}\\cdot (-1)\\cdot I(p) + \\frac{1}{|\\text{fbmhs_batch_size}|}\\sum_{p \\in fbmhs\\_batch_{j}}x^{i}_{pj} \\cdot 1 \\cdot I(p)$$ \n",
    "      where $I(p)$ is the cumulative improvement for patient $p$.   $I(p) = \\sum_{n \\in num\\_items} A_0(n,p)-A_1(n,p)$\n",
    "      4. We use Gurobi to calculate step C, and we get $x^{i}_{1j}, x^{i}_{2j}, ...$ for all items of batch **j** in iteration **i**  \n",
    "  2. We calcualte the average score of each item **n** for iteration **i**:\n",
    "      $$x^{i}_{n} = \\frac{1}{batch\\_num}\\sum_{j} x^{i}_{nj}$$\n",
    "     \n",
    "+ Lastly, we find iteration average $x_{n}$  for each item $n$\n",
    "    $$x_{n} = \\frac{1}{iter\\_num}\\sum_{i} x^{i}_{n}$$\n",
    "\n"
   ]
  },
  {
   "cell_type": "markdown",
   "metadata": {},
   "source": [
    "## Import Packages <a name=\"import_models\"></a>"
   ]
  },
  {
   "cell_type": "code",
   "execution_count": 10,
   "metadata": {},
   "outputs": [],
   "source": [
    "#import the modules\n",
    "from gurobipy import *\n",
    "import gurobipy as gp\n",
    "from gurobipy import GRB\n",
    "import os\n",
    "import numpy as np\n",
    "import pandas as pd\n",
    "import csv \n",
    "import random\n",
    "import sys\n",
    "import matplotlib.pyplot as plt"
   ]
  },
  {
   "cell_type": "code",
   "execution_count": 11,
   "metadata": {},
   "outputs": [],
   "source": [
    "#Some useful settings\n",
    "#np.set_printoptions(threshold=sys.maxsize)\n",
    "# %pprint\n",
    "#pd.set_option('display.max_rows', None)\n",
    "#pd.set_option('display.max_rows', 10)\n",
    "#pd.set_option('display.max_columns', None)"
   ]
  },
  {
   "cell_type": "markdown",
   "metadata": {},
   "source": [
    "### Model<a name=\"model\"></a>"
   ]
  },
  {
   "cell_type": "code",
   "execution_count": 51,
   "metadata": {},
   "outputs": [],
   "source": [
    "def twosum_improvement_xneed_once(IBHS, FBMHS, batch_num):  \n",
    "    \n",
    "    IBHS_num = IBHS.shape[0]\n",
    "    FBMHS_num = FBMHS.shape[0]\n",
    "    num_items = IBHS.shape[1]\n",
    "    #print('there are ', str(num_items), ' needs.')\n",
    "    #print('there are ', str(IBHS_num), ' IBHS Patients.')\n",
    "    #print('there are ', str(FBMHS_num), ' FBMHS Patients.')\n",
    "\n",
    "    FBMHS = FBMHS.to_numpy()\n",
    "    selected_rows = np.random.choice(FBMHS_num, size=FBMHS_num, replace=False)\n",
    "    FBMHS = FBMHS[selected_rows, :]\n",
    "    \n",
    "    IBHS = IBHS.to_numpy()\n",
    "    selected_rows = np.random.choice(IBHS_num, size=IBHS_num, replace=False)\n",
    "    IBHS = IBHS[selected_rows, :]\n",
    "    #print(selected_rows)\n",
    "    ibhs_batch_size = IBHS_num//batch_num\n",
    "    fbmhs_batch_size = FBMHS_num//batch_num\n",
    "    \n",
    "    ibhs_batch = None\n",
    "    fbmhs_batch = None\n",
    "     \n",
    "    res = np.zeros((batch_num, num_items))\n",
    "    \n",
    "    for k in range(batch_num):        \n",
    "        if k < batch_num-1:\n",
    "            ibhs_batch = IBHS[k*ibhs_batch_size:(k+1)*ibhs_batch_size,]\n",
    "            fbmhs_batch = FBMHS[k*fbmhs_batch_size:(k+1)*fbmhs_batch_size,]\n",
    "        else:\n",
    "            ibhs_batch = IBHS[k*ibhs_batch_size:,]\n",
    "            fbmhs_batch = FBMHS[k*fbmhs_batch_size:,]\n",
    "\n",
    "        #Gurobi model                \n",
    "        m = gp.Model()\n",
    "        m.Params.LogToConsole = 0 #Gurobi would not print\n",
    "\n",
    "        #Create decision variables\n",
    "        x_need = m.addVars(num_items, lb = -1, ub = 1, vtype = GRB.CONTINUOUS, name = 'x_need')\n",
    "\n",
    "        #Find x weighted score\n",
    "        x_patient_IBHS = [0 for i in range(ibhs_batch.shape[0])]\n",
    "        for i in range(ibhs_batch.shape[0]):\n",
    "            x_patient_IBHS[i] = sum(x_need[j]*ibhs_batch[i][j] for j in range(num_items))/(3*num_items)\n",
    "\n",
    "        x_patient_FBMHS = [0 for i in range(fbmhs_batch.shape[0])]\n",
    "        for i in range(fbmhs_batch.shape[0]):\n",
    "            x_patient_FBMHS[i] = sum(x_need[j]*fbmhs_batch[i][j] for j in range(num_items))/(3*num_items)\n",
    "\n",
    "\n",
    "        #Using given data to find total improvement for each patient\n",
    "        x_improvement_IBHS = [0 for i in range(ibhs_batch.shape[0])]\n",
    "        x_improvement_FBMHS = [0 for i in range(fbmhs_batch.shape[0])]\n",
    "\n",
    "        for i in range(ibhs_batch.shape[0]):\n",
    "            x_improvement_IBHS[i] = sum(ibhs_batch[i][j] for j in range(num_items))\n",
    "\n",
    "        for i in range(fbmhs_batch.shape[0]):\n",
    "            x_improvement_FBMHS[i] = sum(fbmhs_batch[i][j] for j in range(num_items))\n",
    "\n",
    "        ibhs_sum = gp.quicksum(x_patient_IBHS[i]*(-1)*x_improvement_IBHS[i] for i in range(ibhs_batch.shape[0]))\n",
    "        fbmh_sum = gp.quicksum(x_patient_FBMHS[i]*x_improvement_FBMHS[i] for i in range(fbmhs_batch.shape[0]))\n",
    "        m.setObjective(ibhs_sum/(ibhs_batch.shape[0]) + fbmh_sum/fbmhs_batch.shape[0],\n",
    "                       GRB.MAXIMIZE)\n",
    "\n",
    "        m.optimize()\n",
    "        \n",
    "        res[k,:] = [x_need[i].X for i in range(num_items)]\n",
    "        \n",
    "    return np.sum(res, axis = 0)/batch_num"
   ]
  },
  {
   "cell_type": "code",
   "execution_count": 52,
   "metadata": {},
   "outputs": [],
   "source": [
    "def twosum_improvement_xneed_all(IBHS, FBMHS, batch_num = 10, n = 100):\n",
    "    num_items = IBHS.shape[1]\n",
    "    total = np.array([0.0 for i in range(num_items)])\n",
    "    for i in range(n):\n",
    "        xneed_real = twosum_improvement_xneed_once(IBHS, FBMHS, batch_num)\n",
    "        total += xneed_real\n",
    "    final_need = total/n\n",
    "    return final_need"
   ]
  },
  {
   "cell_type": "code",
   "execution_count": null,
   "metadata": {},
   "outputs": [],
   "source": []
  }
 ],
 "metadata": {
  "kernelspec": {
   "display_name": "Python 3",
   "language": "python",
   "name": "python3"
  },
  "language_info": {
   "codemirror_mode": {
    "name": "ipython",
    "version": 3
   },
   "file_extension": ".py",
   "mimetype": "text/x-python",
   "name": "python",
   "nbconvert_exporter": "python",
   "pygments_lexer": "ipython3",
   "version": "3.7.4"
  }
 },
 "nbformat": 4,
 "nbformat_minor": 4
}
