{
 "cells": [
  {
   "cell_type": "markdown",
   "metadata": {},
   "source": [
    "# Table of contents \n",
    "\n",
    "1. [Dummy Data Functions](#make_dummy_data)\n",
    "    1. [Helpers](#helpers)\n",
    "2. [Dummy Data Validation](#dummy_data_validation)\n",
    "    1. [Dummy Date Group 1](#dummy_data_group_1)\n",
    "        1. [Generating Dummy Data 1](#generate_dummy_data_1)\n",
    "        2. [Validate Dummy Data 1](#validate_dummy_data_1)\n",
    "    2. [Dummy Data Group 2](#dummy_data_group_2)\n",
    "        1. [Generating Dummy Data 2](#generate_dummy_data_2)\n",
    "        2. [Validate Dummy Data 2](#validate_dummy_data_2)\n",
    "    3. [Dummy Data Group 3](#dummy_data_group_3)\n",
    "        1. [Generating Dummy Data 3](#generate_dummy_data_3)\n",
    "        2. [Validate Dummy Data 3](#validate_dummy_data_3)\n",
    "    4. [Dummy Data Group 4](#dummy_data_group_4)\n",
    "        1. [Generating Dummy Data 4](#generate_dummy_data_4)\n",
    "        2. [Validate Dummy Data 4](#validate_dummy_data_4)\n",
    "    5. [Dummy Data Group 5](#dummy_data_group_5)\n",
    "        1. [Generating Dummy Data 5](#generate_dummy_data_5)\n",
    "        2. [Validate Dummy Data 4](#validate_dummy_data_5)\n",
    "    6. [Dummy Data Group 6](#dummy_data_group_6)\n",
    "        1. [Generating Dummy Data 6](#generate_dummy_data_6)\n",
    "        2. [Validate Dummy Data 6](#validate_dummy_data_6)\n",
    "    7. [Dummy Data Group 7](#dummy_data_group_7)\n",
    "        1. [Generating Dummy Data 7](#generate_dummy_data_7)\n",
    "        2. [Validate Dummy Data 7](#validate_dummy_data_7)\n",
    "    8. [Dummy Data Group 8](#dummy_data_group_8)\n",
    "        1. [Generating Dummy Data 8](#generate_dummy_data_8)\n",
    "        2. [Validate Dummy Data 8](#validate_dummy_data_8)"
   ]
  },
  {
   "cell_type": "code",
   "execution_count": 124,
   "metadata": {},
   "outputs": [],
   "source": [
    "%run decision_support_model.ipynb"
   ]
  },
  {
   "cell_type": "markdown",
   "metadata": {},
   "source": [
    "# Dummy Data Functions <a name=\"make_dummy_data\"></a>"
   ]
  },
  {
   "cell_type": "markdown",
   "metadata": {},
   "source": [
    "For default dummy data:\n",
    "\n",
    "- need 0-29: 70% of ibhs_patients improve(1,2,3), 30% worse/stay the same; 30% fbmhs_patient improve(1,2,3), 70% worse/stay the same\n",
    "\n",
    "- need 30-59: 70% of fbmhs_patient improve(1,2,3), 30% worse/stay the same; 30% ibhs_patients improve(1,2,3), 70% worse/stay the same\n",
    "\n",
    "- need 60-99: completely random"
   ]
  },
  {
   "cell_type": "markdown",
   "metadata": {},
   "source": [
    "## Helpers <a name=\"helpers\"></a>"
   ]
  },
  {
   "cell_type": "code",
   "execution_count": 13,
   "metadata": {},
   "outputs": [],
   "source": [
    "def find_distribution(df):\n",
    "    dis = \" \"\n",
    "    for i in range(df.shape[1]):\n",
    "        if i == 0:\n",
    "            dis =  df[str(0)].value_counts()\n",
    "        else:\n",
    "            cur =  df[str(i)].value_counts()\n",
    "            for j in range(7):\n",
    "                k = j - 3\n",
    "                if k not in cur:\n",
    "                    cur[k] = 0\n",
    "            dis +=  cur\n",
    "    for j in range(7):\n",
    "        k = j - 3\n",
    "        if k not in dis:\n",
    "            # print(k)\n",
    "            dis[k] = 0\n",
    "    return dis"
   ]
  },
  {
   "cell_type": "code",
   "execution_count": 14,
   "metadata": {},
   "outputs": [],
   "source": [
    "ibhs_df = pd.read_csv('ibhs_all_improv_table.csv')\n",
    "fbmh_df = pd.read_csv('fbmhs_all_improv_table.csv')\n",
    "\n",
    "ibhs_dis = find_distribution(ibhs_df)\n",
    "fbmh_dis = find_distribution(fbmh_df)"
   ]
  },
  {
   "cell_type": "code",
   "execution_count": 15,
   "metadata": {},
   "outputs": [
    {
     "data": {
      "text/plain": [
       " 0    270431.0\n",
       "-1     25553.0\n",
       " 1     39052.0\n",
       "-2      6694.0\n",
       " 2     14419.0\n",
       "-3      1118.0\n",
       " 3         0.0\n",
       "Name: 0, dtype: float64"
      ]
     },
     "execution_count": 15,
     "metadata": {},
     "output_type": "execute_result"
    }
   ],
   "source": [
    "ibhs_dis"
   ]
  },
  {
   "cell_type": "code",
   "execution_count": 16,
   "metadata": {},
   "outputs": [],
   "source": [
    "'''\n",
    " 1. generator that outputs improvement and disimprovement with values based on distribution(uniform, original) \n",
    " 2. whether the output disimproves and improves is predetermined by if_improv\n",
    "'''\n",
    "def random_generator(dis, lst, program = 'IBHS', if_improv = True):\n",
    "    if dis == 'uniform':\n",
    "        return random.choice(lst)\n",
    "    if if_improv and dis == 'original':\n",
    "        if program == 'IBHS':\n",
    "            num = random.random()\n",
    "            total = ibhs_dis[0] + ibhs_dis[1] + ibhs_dis[2] + ibhs_dis[3]\n",
    "            if num < ibhs_dis[0]/total:\n",
    "                return 0\n",
    "            elif num < ibhs_dis[1]/total:\n",
    "                return 1\n",
    "            elif num < ibhs_dis[2]/total:\n",
    "                return 2\n",
    "            else:\n",
    "                return 3\n",
    "        elif program == 'FMBHS':\n",
    "            num = random.random()\n",
    "            total = fbmh_dis[0] + fbmh_dis[1] + fbmh_dis[2] + fbmh_dis[3]\n",
    "            if num < fbmh_dis[0]/total:\n",
    "                return 0\n",
    "            elif num < fbmh_dis[1]/total:\n",
    "                return 1\n",
    "            elif num < fbmh_dis[2]/total:\n",
    "                return 2\n",
    "            else:\n",
    "                return 3\n",
    "    elif not if_improv and dis == 'original':\n",
    "        if program == 'IBHS':\n",
    "            num = random.random()\n",
    "            total = ibhs_dis[0] + ibhs_dis[-1] + ibhs_dis[-2] + ibhs_dis[-3]\n",
    "            if num < ibhs_dis[0]/total:\n",
    "                return 0\n",
    "            elif num < ibhs_dis[-1]/total:\n",
    "                return -1\n",
    "            elif num < ibhs_dis[-2]/total:\n",
    "                return -2\n",
    "            else:\n",
    "                return -3\n",
    "        elif program == 'FMBHS':\n",
    "            num = random.random()\n",
    "            total = fbmh_dis[0] + fbmh_dis[-1] + fbmh_dis[-2] + fbmh_dis[-3]\n",
    "            if num < fbmh_dis[0]/total:\n",
    "                return 0\n",
    "            elif num < fbmh_dis[-1]/total:\n",
    "                return -1\n",
    "            elif num < fbmh_dis[-2]/total:\n",
    "                return -2\n",
    "            else:\n",
    "                return -3\n",
    "        "
   ]
  },
  {
   "cell_type": "code",
   "execution_count": null,
   "metadata": {},
   "outputs": [],
   "source": []
  },
  {
   "cell_type": "code",
   "execution_count": 24,
   "metadata": {},
   "outputs": [],
   "source": [
    "'''\n",
    "1. fields: table column names\n",
    "2. num_patients: number of patients\n",
    "3. ratio: the probability for disimprovement\n",
    "each item only improves if improve_only = True, and it improves based on the dis (uniform/original)\n",
    "2. file_name is the output file name\n",
    "3. need_groups is a list of the cutting points with length 3. \n",
    "   For need_groups = [a,b,c], \n",
    "   [0:a] are the items that must improve with IBHS(disimproves with FBMHS), \n",
    "   [a:b] are the items that must improve with FBMHS(disimproves with IBHS), \n",
    "   [b:c] are the items improve randomly\n",
    "'''\n",
    "def make_dummy_data(fields, num_patient, improve_only = True, need_groups = [5,10,90], \n",
    "                    ibhs_improv_prob = 0.7, ibhs_disImprov_prob = 0.7, \n",
    "                    fbmhs_improv_prob = 0.7, fbmhs_disImprov_prob = 0.7,\n",
    "                    file_name = 'dummy_data_test', dis = 'uniform',\n",
    "                    improv = [0,1,2,3], disImprov = [0,-1,-2,-3]):\n",
    "    rows = []\n",
    "    for i in range(num_patient):\n",
    "\n",
    "        #ma number\n",
    "        row = [str(i)]\n",
    "        #program\n",
    "        if i < num_patient//2:\n",
    "            program = 'IBHS'\n",
    "        else:\n",
    "            program = 'FBMHS'\n",
    "        \n",
    "        row.append(program)\n",
    "\n",
    "        # iterate through all needs\n",
    "        for ni in range(need_groups[-1]):\n",
    "            if ni < need_groups[0]: # these needs should mostly/all improve for IBHS patients\n",
    "                if program == 'IBHS': # for IBHS patients\n",
    "                    if improve_only: # these needs should improve all the times\n",
    "                        improvement = random_generator(dis, improv)\n",
    "                        row.append(improvement)\n",
    "                    else: # these needs should improve with a probability of \"ibhs_improv_prob\"\n",
    "                        num = random.random()\n",
    "                        if num <= ibhs_improv_prob:\n",
    "                            improvement = random_generator(dis, improv)\n",
    "                            row.append(improvement)\n",
    "                        else:\n",
    "                            improvement = random_generator(dis, disImprov, if_improv = False)\n",
    "                            row.append(improvement)\n",
    "                else: # for FBMHS patients\n",
    "                    if improve_only: # these needs improves 0\n",
    "                        improvement = 0\n",
    "                        row.append(improvement)\n",
    "                    else: # these needs disimprove with a probability of \"ibhs_disImprov_prob\"\n",
    "                        num = random.random()\n",
    "                        if num <= ibhs_disImprov_prob:\n",
    "                            improvement = random_generator(dis, disImprov, if_improv = False)\n",
    "                            row.append(improvement)\n",
    "                        else: \n",
    "                            improvement = random_generator(dis, improv)\n",
    "                            row.append(improvement)\n",
    "            elif ni >= need_groups[0] and ni < need_groups[1]: # these needs should mostly/all improve for FBMHS patients\n",
    "                if program == 'FBMHS': # for FBMHS patients\n",
    "                    if improve_only: # these needs should improve all the times\n",
    "                        improvement = random_generator(dis, improv)\n",
    "                        row.append(improvement)\n",
    "                    else: # these needs should only improve with a probability of \"fbmhs_improv_prob\"\n",
    "                        num = random.random()\n",
    "                        if num <= fbmhs_improv_prob:\n",
    "                            improvement = random_generator(dis, improv)\n",
    "                            row.append(improvement)\n",
    "                        else:\n",
    "                            improvement = random_generator(dis, disImprov, if_improv = False)\n",
    "                            row.append(improvement)\n",
    "                else: # for IBHS patients\n",
    "                    if improve_only:  # these needs improves 0\n",
    "                        improvement = 0\n",
    "                        row.append(improvement)\n",
    "                    else:  # these needs disimprove with a probability of \"fbmhs_disImprov_prob\"\n",
    "                        num = random.random()\n",
    "                        if num <= fbmhs_disImprov_prob:\n",
    "                            improvement = random_generator(dis, disImprov, if_improv = False)\n",
    "                            row.append(improvement)\n",
    "                        else:\n",
    "                            improvement = random_generator(dis, improv)\n",
    "                            row.append(improvement)\n",
    "            else: #these needs improve randomly according to given distribution\n",
    "                if improve_only:\n",
    "                    improvement = random_generator(dis, improv)\n",
    "                    row.append(improvement)\n",
    "                else:\n",
    "                    improvement = random_generator(dis, list(set(disImprov + improv)), if_improv = random.choice([False, True]))\n",
    "                    row.append(improvement)\n",
    "        rows.append(row)\n",
    "        \n",
    "    filename = file_name\n",
    "    # writing to csv file \n",
    "    with open(filename, 'w') as csvfile: \n",
    "        # creating a csv writer object \n",
    "        csvwriter = csv.writer(csvfile) \n",
    "\n",
    "        # writing the fields \n",
    "        csvwriter.writerow(fields) \n",
    "\n",
    "        # writing the data rows \n",
    "        csvwriter.writerows(rows)\n",
    "                \n",
    "                    "
   ]
  },
  {
   "cell_type": "code",
   "execution_count": null,
   "metadata": {},
   "outputs": [],
   "source": []
  },
  {
   "cell_type": "markdown",
   "metadata": {},
   "source": [
    "# Dummy Data Validation <a name=\"dummy_data_validation\"></a>\n"
   ]
  },
  {
   "cell_type": "markdown",
   "metadata": {},
   "source": [
    "## Validation Helpers <a name=\"validate_helpers\"></a>"
   ]
  },
  {
   "cell_type": "code",
   "execution_count": 37,
   "metadata": {},
   "outputs": [],
   "source": [
    "def import_data(name):\n",
    "    test_dummy = pd.read_csv(name)\n",
    "    test_dummy_ibhs = test_dummy[test_dummy['Program'] == 'IBHS']\n",
    "    test_dummy_fbmh = test_dummy[test_dummy['Program'] == 'FBMHS']\n",
    "    droplist = ['client_id','Program']\n",
    "    test_dummy_fbmh = test_dummy_fbmh.reset_index(drop=True)\n",
    "\n",
    "    test_dummy_fbmh.drop(droplist, axis = 1, inplace = True)\n",
    "    test_dummy_ibhs.drop(droplist, axis = 1, inplace = True)\n",
    "    return (test_dummy_ibhs, test_dummy_fbmh)"
   ]
  },
  {
   "cell_type": "code",
   "execution_count": 132,
   "metadata": {},
   "outputs": [],
   "source": [
    "def validate_result(x_item, need_splits):\n",
    "    ibhs = x_item[0:need_splits[0]]\n",
    "    number_of_minus_one_split_0 = sum(ibhs==-1.0)\n",
    "    number_of_one_split_0 = sum(ibhs==1.0)\n",
    "    number_of_between_split_0 = sum((ibhs < 1.0) & (ibhs > -1.0))\n",
    "    \n",
    "    fbmhs = x_item[need_splits[0]:need_splits[1]]\n",
    "    number_of_minus_one_split_1 = sum(fbmhs==-1.0)\n",
    "    number_of_one_split_1 = sum(fbmhs==1.0)\n",
    "    number_of_between_split_1 = sum((fbmhs < 1.0) & (fbmhs > -1.0))\n",
    "    \n",
    "    rest = x_item[need_splits[1]:]\n",
    "    number_of_minus_one_split_2 = sum(rest==-1.0)\n",
    "    number_of_one_split_2 = sum(rest==1.0)\n",
    "    number_of_between_split_2 = sum((rest < 1.0) & (rest > -1.0))\n",
    "    \n",
    "    return pd.DataFrame(np.array([[number_of_one_split_0, number_of_minus_one_split_0, number_of_between_split_0], \n",
    "                                 [number_of_one_split_1, number_of_minus_one_split_1, number_of_between_split_1], \n",
    "                                 [number_of_one_split_2, number_of_minus_one_split_2, number_of_between_split_2]]),\n",
    "                       columns = ['number_of_item_is_1', \n",
    "                                  'number_of_item_is_-1', \n",
    "                                  'number_of_item_is_betweem_1_and_-1'],\n",
    "                      index = ['Items 1-' + str(need_splits[0]), \n",
    "                               'Items ' + str(need_splits[0]+1) + '-' + str(need_splits[1]),\n",
    "                               'Items ' + str(need_splits[1]+1) + '-' + str(need_splits[2])])"
   ]
  },
  {
   "cell_type": "markdown",
   "metadata": {},
   "source": [
    "### Dummy Data group 1 <a name=\"dummy_data_group_1\"></a>"
   ]
  },
  {
   "cell_type": "markdown",
   "metadata": {},
   "source": [
    "#### Generating Dummy Data 1<a name=\"generate_dummy_data_1\"></a>\n",
    "5 IBHS, 5 FBMHS, 80 random, only improvements, 30 patients"
   ]
  },
  {
   "cell_type": "code",
   "execution_count": 133,
   "metadata": {},
   "outputs": [],
   "source": [
    "num_patient = 30\n",
    "need_splits = [5,10,90]\n",
    "fields_need = [str(i+1) for i in range(need_splits[-1])]\n",
    "fields = ['client_id', 'Program'] + fields_need\n",
    "name = 'dummy_dataset/dummy_group_1.csv'\n",
    "make_dummy_data(fields, num_patient, improve_only = True, \n",
    "                  need_groups = need_splits, file_name = name)\n"
   ]
  },
  {
   "cell_type": "markdown",
   "metadata": {},
   "source": [
    "#### Validate Dummy Data 1<a name=\"validate_dummy_data_1\"></a> "
   ]
  },
  {
   "cell_type": "code",
   "execution_count": 137,
   "metadata": {},
   "outputs": [
    {
     "data": {
      "text/html": [
       "<div>\n",
       "<style scoped>\n",
       "    .dataframe tbody tr th:only-of-type {\n",
       "        vertical-align: middle;\n",
       "    }\n",
       "\n",
       "    .dataframe tbody tr th {\n",
       "        vertical-align: top;\n",
       "    }\n",
       "\n",
       "    .dataframe thead th {\n",
       "        text-align: right;\n",
       "    }\n",
       "</style>\n",
       "<table border=\"1\" class=\"dataframe\">\n",
       "  <thead>\n",
       "    <tr style=\"text-align: right;\">\n",
       "      <th></th>\n",
       "      <th>number_of_item_is_1</th>\n",
       "      <th>number_of_item_is_-1</th>\n",
       "      <th>number_of_item_is_betweem_1_and_-1</th>\n",
       "    </tr>\n",
       "  </thead>\n",
       "  <tbody>\n",
       "    <tr>\n",
       "      <td>Items 1-5</td>\n",
       "      <td>0</td>\n",
       "      <td>5</td>\n",
       "      <td>0</td>\n",
       "    </tr>\n",
       "    <tr>\n",
       "      <td>Items 6-10</td>\n",
       "      <td>5</td>\n",
       "      <td>0</td>\n",
       "      <td>0</td>\n",
       "    </tr>\n",
       "    <tr>\n",
       "      <td>Items 11-90</td>\n",
       "      <td>32</td>\n",
       "      <td>48</td>\n",
       "      <td>0</td>\n",
       "    </tr>\n",
       "  </tbody>\n",
       "</table>\n",
       "</div>"
      ],
      "text/plain": [
       "             number_of_item_is_1  number_of_item_is_-1  \\\n",
       "Items 1-5                      0                     5   \n",
       "Items 6-10                     5                     0   \n",
       "Items 11-90                   32                    48   \n",
       "\n",
       "             number_of_item_is_betweem_1_and_-1  \n",
       "Items 1-5                                     0  \n",
       "Items 6-10                                    0  \n",
       "Items 11-90                                   0  "
      ]
     },
     "execution_count": 137,
     "metadata": {},
     "output_type": "execute_result"
    }
   ],
   "source": [
    "ibhs_dummy_1, fbmh_dummy_1 = import_data(\"dummy_dataset/dummy_group_1.csv\")\n",
    "x_item_1 = twosum_improvement_xneed_all(ibhs_dummy_1, fbmh_dummy_1, batch_num = 1, n = 1)\n",
    "validate_result(x_item_1, need_splits)"
   ]
  },
  {
   "cell_type": "markdown",
   "metadata": {},
   "source": [
    "### Dummy Data group 2 <a name=\"dummy_data_group_2\"></a>"
   ]
  },
  {
   "cell_type": "markdown",
   "metadata": {},
   "source": [
    "#### Generate Dummy Data 2<a name=\"generate_dummy_data_2\"></a>\n",
    "5 IBHS, 5 FBMHS, 80 random, improvements and disimprovements, 30 patients"
   ]
  },
  {
   "cell_type": "code",
   "execution_count": 138,
   "metadata": {},
   "outputs": [],
   "source": [
    "num_patient = 30\n",
    "need_splits = [5,10,90]\n",
    "fields_need = [str(i+1) for i in range(need_splits[-1])]\n",
    "fields = ['client_id', 'Program'] + fields_need\n",
    "name = 'dummy_dataset/dummy_group_2.csv'\n",
    "make_dummy_data(fields, num_patient, improve_only = False, need_groups = need_splits, \n",
    "                    ibhs_improv_prob = 1, ibhs_disImprov_prob = 1, \n",
    "                    fbmhs_improv_prob = 1, fbmhs_disImprov_prob = 1,\n",
    "                    file_name = name, dis = 'uniform',\n",
    "                    improv = [0,1,2,3], disImprov = [0,-1,-2,-3])\n"
   ]
  },
  {
   "cell_type": "markdown",
   "metadata": {},
   "source": [
    "#### Validate Dummy Data 2<a name=\"validate_dummy_data_2\"></a> "
   ]
  },
  {
   "cell_type": "code",
   "execution_count": 140,
   "metadata": {},
   "outputs": [
    {
     "data": {
      "text/html": [
       "<div>\n",
       "<style scoped>\n",
       "    .dataframe tbody tr th:only-of-type {\n",
       "        vertical-align: middle;\n",
       "    }\n",
       "\n",
       "    .dataframe tbody tr th {\n",
       "        vertical-align: top;\n",
       "    }\n",
       "\n",
       "    .dataframe thead th {\n",
       "        text-align: right;\n",
       "    }\n",
       "</style>\n",
       "<table border=\"1\" class=\"dataframe\">\n",
       "  <thead>\n",
       "    <tr style=\"text-align: right;\">\n",
       "      <th></th>\n",
       "      <th>number_of_item_is_1</th>\n",
       "      <th>number_of_item_is_-1</th>\n",
       "      <th>number_of_item_is_betweem_1_and_-1</th>\n",
       "    </tr>\n",
       "  </thead>\n",
       "  <tbody>\n",
       "    <tr>\n",
       "      <td>Items 1-5</td>\n",
       "      <td>0</td>\n",
       "      <td>5</td>\n",
       "      <td>0</td>\n",
       "    </tr>\n",
       "    <tr>\n",
       "      <td>Items 6-10</td>\n",
       "      <td>5</td>\n",
       "      <td>0</td>\n",
       "      <td>0</td>\n",
       "    </tr>\n",
       "    <tr>\n",
       "      <td>Items 11-90</td>\n",
       "      <td>38</td>\n",
       "      <td>42</td>\n",
       "      <td>0</td>\n",
       "    </tr>\n",
       "  </tbody>\n",
       "</table>\n",
       "</div>"
      ],
      "text/plain": [
       "             number_of_item_is_1  number_of_item_is_-1  \\\n",
       "Items 1-5                      0                     5   \n",
       "Items 6-10                     5                     0   \n",
       "Items 11-90                   38                    42   \n",
       "\n",
       "             number_of_item_is_betweem_1_and_-1  \n",
       "Items 1-5                                     0  \n",
       "Items 6-10                                    0  \n",
       "Items 11-90                                   0  "
      ]
     },
     "execution_count": 140,
     "metadata": {},
     "output_type": "execute_result"
    }
   ],
   "source": [
    "ibhs_dummy_2, fbmh_dummy_2 = import_data(\"dummy_dataset/dummy_group_2.csv\")\n",
    "x_item_2 = twosum_improvement_xneed_all(ibhs_dummy_2, fbmh_dummy_2, batch_num = 1, n = 1)\n",
    "validate_result(x_item_2, need_splits)"
   ]
  },
  {
   "cell_type": "markdown",
   "metadata": {},
   "source": [
    "### Dummy Data group 3 <a name=\"dummy_data_group_3\"></a>"
   ]
  },
  {
   "cell_type": "markdown",
   "metadata": {},
   "source": [
    "#### Generate Dummy Data 3<a name=\"generate_dummy_data_3\"></a>\n",
    "5 IBHS, 5 correlated with FBMHS, 80 random, only improvements, 200 patients."
   ]
  },
  {
   "cell_type": "code",
   "execution_count": 141,
   "metadata": {},
   "outputs": [],
   "source": [
    "num_patient = 200\n",
    "need_splits = [5,10,90]\n",
    "fields_need = [str(i+1) for i in range(need_splits[-1])]\n",
    "fields = ['client_id', 'Program'] + fields_need\n",
    "name = 'dummy_dataset/dummy_group_3.csv'\n",
    "make_dummy_data(fields, num_patient, improve_only = True, need_groups = need_splits, \n",
    "                    ibhs_improv_prob = 1, ibhs_disImprov_prob = 1, \n",
    "                    fbmhs_improv_prob = 1, fbmhs_disImprov_prob = 1,\n",
    "                    file_name = name, dis = 'uniform',\n",
    "                    improv = [0,1,2,3], disImprov = [0,-1,-2,-3])\n"
   ]
  },
  {
   "cell_type": "markdown",
   "metadata": {},
   "source": [
    "#### Validate Dummy Data 3<a name=\"validate_dummy_data_3\"></a> "
   ]
  },
  {
   "cell_type": "code",
   "execution_count": 143,
   "metadata": {},
   "outputs": [
    {
     "data": {
      "text/html": [
       "<div>\n",
       "<style scoped>\n",
       "    .dataframe tbody tr th:only-of-type {\n",
       "        vertical-align: middle;\n",
       "    }\n",
       "\n",
       "    .dataframe tbody tr th {\n",
       "        vertical-align: top;\n",
       "    }\n",
       "\n",
       "    .dataframe thead th {\n",
       "        text-align: right;\n",
       "    }\n",
       "</style>\n",
       "<table border=\"1\" class=\"dataframe\">\n",
       "  <thead>\n",
       "    <tr style=\"text-align: right;\">\n",
       "      <th></th>\n",
       "      <th>number_of_item_is_1</th>\n",
       "      <th>number_of_item_is_-1</th>\n",
       "      <th>number_of_item_is_betweem_1_and_-1</th>\n",
       "    </tr>\n",
       "  </thead>\n",
       "  <tbody>\n",
       "    <tr>\n",
       "      <td>Items 1-5</td>\n",
       "      <td>0</td>\n",
       "      <td>5</td>\n",
       "      <td>0</td>\n",
       "    </tr>\n",
       "    <tr>\n",
       "      <td>Items 6-10</td>\n",
       "      <td>5</td>\n",
       "      <td>0</td>\n",
       "      <td>0</td>\n",
       "    </tr>\n",
       "    <tr>\n",
       "      <td>Items 11-90</td>\n",
       "      <td>35</td>\n",
       "      <td>45</td>\n",
       "      <td>0</td>\n",
       "    </tr>\n",
       "  </tbody>\n",
       "</table>\n",
       "</div>"
      ],
      "text/plain": [
       "             number_of_item_is_1  number_of_item_is_-1  \\\n",
       "Items 1-5                      0                     5   \n",
       "Items 6-10                     5                     0   \n",
       "Items 11-90                   35                    45   \n",
       "\n",
       "             number_of_item_is_betweem_1_and_-1  \n",
       "Items 1-5                                     0  \n",
       "Items 6-10                                    0  \n",
       "Items 11-90                                   0  "
      ]
     },
     "execution_count": 143,
     "metadata": {},
     "output_type": "execute_result"
    }
   ],
   "source": [
    "ibhs_dummy_3, fbmh_dummy_3 = import_data(\"dummy_dataset/dummy_group_3.csv\")\n",
    "x_item_3 = twosum_improvement_xneed_all(ibhs_dummy_3, fbmh_dummy_3, batch_num = 1, n = 1)\n",
    "validate_result(x_item_3, need_splits)"
   ]
  },
  {
   "cell_type": "markdown",
   "metadata": {},
   "source": [
    "### Dummy Data group 4 <a name=\"dummy_data_group_4\"></a>"
   ]
  },
  {
   "cell_type": "markdown",
   "metadata": {},
   "source": [
    "#### Generate Dummy Data Group 4<a name=\"generate_dummy_data_4\"></a>\n",
    "Group 4: 5 IBHS, 5 FBMHS, 80 random, improvements and disimprovements, 200 patients."
   ]
  },
  {
   "cell_type": "code",
   "execution_count": 149,
   "metadata": {},
   "outputs": [],
   "source": [
    "num_patient = 200\n",
    "need_splits = [5,10,90]\n",
    "fields_need = [str(i+1) for i in range(need_splits[-1])]\n",
    "fields = ['client_id', 'Program'] + fields_need\n",
    "name = 'dummy_dataset/dummy_group_4.csv'\n",
    "make_dummy_data(fields, num_patient, improve_only = False, need_groups = need_splits, \n",
    "                    ibhs_improv_prob = 1, ibhs_disImprov_prob = 1, \n",
    "                    fbmhs_improv_prob = 1, fbmhs_disImprov_prob = 1,\n",
    "                    file_name = name, dis = 'uniform',\n",
    "                    improv = [0,1,2,3], disImprov = [0,-1,-2,-3])\n"
   ]
  },
  {
   "cell_type": "markdown",
   "metadata": {},
   "source": [
    "#### Validate Dummy Data 4<a name=\"validate_dummy_data_4\"></a> "
   ]
  },
  {
   "cell_type": "code",
   "execution_count": 150,
   "metadata": {},
   "outputs": [
    {
     "data": {
      "text/html": [
       "<div>\n",
       "<style scoped>\n",
       "    .dataframe tbody tr th:only-of-type {\n",
       "        vertical-align: middle;\n",
       "    }\n",
       "\n",
       "    .dataframe tbody tr th {\n",
       "        vertical-align: top;\n",
       "    }\n",
       "\n",
       "    .dataframe thead th {\n",
       "        text-align: right;\n",
       "    }\n",
       "</style>\n",
       "<table border=\"1\" class=\"dataframe\">\n",
       "  <thead>\n",
       "    <tr style=\"text-align: right;\">\n",
       "      <th></th>\n",
       "      <th>number_of_item_is_1</th>\n",
       "      <th>number_of_item_is_-1</th>\n",
       "      <th>number_of_item_is_betweem_1_and_-1</th>\n",
       "    </tr>\n",
       "  </thead>\n",
       "  <tbody>\n",
       "    <tr>\n",
       "      <td>Items 1-5</td>\n",
       "      <td>2</td>\n",
       "      <td>3</td>\n",
       "      <td>0</td>\n",
       "    </tr>\n",
       "    <tr>\n",
       "      <td>Items 6-10</td>\n",
       "      <td>3</td>\n",
       "      <td>2</td>\n",
       "      <td>0</td>\n",
       "    </tr>\n",
       "    <tr>\n",
       "      <td>Items 11-90</td>\n",
       "      <td>43</td>\n",
       "      <td>37</td>\n",
       "      <td>0</td>\n",
       "    </tr>\n",
       "  </tbody>\n",
       "</table>\n",
       "</div>"
      ],
      "text/plain": [
       "             number_of_item_is_1  number_of_item_is_-1  \\\n",
       "Items 1-5                      2                     3   \n",
       "Items 6-10                     3                     2   \n",
       "Items 11-90                   43                    37   \n",
       "\n",
       "             number_of_item_is_betweem_1_and_-1  \n",
       "Items 1-5                                     0  \n",
       "Items 6-10                                    0  \n",
       "Items 11-90                                   0  "
      ]
     },
     "execution_count": 150,
     "metadata": {},
     "output_type": "execute_result"
    }
   ],
   "source": [
    "ibhs_dummy_4, fbmh_dummy_4 = import_data(\"dummy_dataset/dummy_group_4.csv\")\n",
    "x_item_4 = twosum_improvement_xneed_all(ibhs_dummy_4, fbmh_dummy_4, batch_num = 1, n = 1)\n",
    "validate_result(x_item_4, need_splits)"
   ]
  },
  {
   "cell_type": "markdown",
   "metadata": {},
   "source": [
    "### Dummy Data group 5 <a name=\"dummy_data_group_5\"></a>"
   ]
  },
  {
   "cell_type": "markdown",
   "metadata": {},
   "source": [
    "#### Generate Dummy Data 5<a name=\"generate_dummy_data_5\"></a>\n",
    "Group 5: 30 IBHS, 30 FBMHS, 30 random, only improvements, 30 patients"
   ]
  },
  {
   "cell_type": "code",
   "execution_count": 151,
   "metadata": {},
   "outputs": [],
   "source": [
    "num_patient = 30\n",
    "need_splits = [30,60,90]\n",
    "fields_need = [str(i+1) for i in range(need_splits[-1])]\n",
    "fields = ['client_id', 'Program'] + fields_need\n",
    "name = 'dummy_dataset/dummy_group_5.csv'\n",
    "make_dummy_data(fields, num_patient, improve_only = True, need_groups = need_splits, \n",
    "                    ibhs_improv_prob = 1, ibhs_disImprov_prob = 1, \n",
    "                    fbmhs_improv_prob = 1, fbmhs_disImprov_prob = 1,\n",
    "                    file_name = name, dis = 'uniform',\n",
    "                    improv = [0,1,2,3], disImprov = [0,-1,-2,-3])\n"
   ]
  },
  {
   "cell_type": "markdown",
   "metadata": {},
   "source": [
    "#### Validate Dummy Data 5<a name=\"validate_dummy_data_5\"></a> "
   ]
  },
  {
   "cell_type": "code",
   "execution_count": 153,
   "metadata": {},
   "outputs": [
    {
     "data": {
      "text/html": [
       "<div>\n",
       "<style scoped>\n",
       "    .dataframe tbody tr th:only-of-type {\n",
       "        vertical-align: middle;\n",
       "    }\n",
       "\n",
       "    .dataframe tbody tr th {\n",
       "        vertical-align: top;\n",
       "    }\n",
       "\n",
       "    .dataframe thead th {\n",
       "        text-align: right;\n",
       "    }\n",
       "</style>\n",
       "<table border=\"1\" class=\"dataframe\">\n",
       "  <thead>\n",
       "    <tr style=\"text-align: right;\">\n",
       "      <th></th>\n",
       "      <th>number_of_item_is_1</th>\n",
       "      <th>number_of_item_is_-1</th>\n",
       "      <th>number_of_item_is_betweem_1_and_-1</th>\n",
       "    </tr>\n",
       "  </thead>\n",
       "  <tbody>\n",
       "    <tr>\n",
       "      <td>Items 1-30</td>\n",
       "      <td>0</td>\n",
       "      <td>30</td>\n",
       "      <td>0</td>\n",
       "    </tr>\n",
       "    <tr>\n",
       "      <td>Items 31-60</td>\n",
       "      <td>30</td>\n",
       "      <td>0</td>\n",
       "      <td>0</td>\n",
       "    </tr>\n",
       "    <tr>\n",
       "      <td>Items 61-90</td>\n",
       "      <td>19</td>\n",
       "      <td>11</td>\n",
       "      <td>0</td>\n",
       "    </tr>\n",
       "  </tbody>\n",
       "</table>\n",
       "</div>"
      ],
      "text/plain": [
       "             number_of_item_is_1  number_of_item_is_-1  \\\n",
       "Items 1-30                     0                    30   \n",
       "Items 31-60                   30                     0   \n",
       "Items 61-90                   19                    11   \n",
       "\n",
       "             number_of_item_is_betweem_1_and_-1  \n",
       "Items 1-30                                    0  \n",
       "Items 31-60                                   0  \n",
       "Items 61-90                                   0  "
      ]
     },
     "execution_count": 153,
     "metadata": {},
     "output_type": "execute_result"
    }
   ],
   "source": [
    "ibhs_dummy_5, fbmh_dummy_5 = import_data(\"dummy_dataset/dummy_group_5.csv\")\n",
    "x_item_5 = twosum_improvement_xneed_all(ibhs_dummy_5, fbmh_dummy_5, batch_num = 1, n = 1)\n",
    "validate_result(x_item_5, need_splits)"
   ]
  },
  {
   "cell_type": "markdown",
   "metadata": {},
   "source": [
    "### Dummy Data group 6 <a name=\"dummy_data_group_6\"></a>"
   ]
  },
  {
   "cell_type": "markdown",
   "metadata": {},
   "source": [
    "#### Generate Dummy Data Group 6<a name=\"generate_dummy_data_6\"></a>\n",
    "Group 6: 30 IBHS, 30 FBMHS, 30 random, only improvements, 30 patients"
   ]
  },
  {
   "cell_type": "code",
   "execution_count": 156,
   "metadata": {},
   "outputs": [],
   "source": [
    "num_patient = 30\n",
    "need_splits = [30,60,90]\n",
    "fields_need = [str(i+1) for i in range(need_splits[-1])]\n",
    "fields = ['client_id', 'Program'] + fields_need\n",
    "name = 'dummy_dataset/dummy_group_6.csv'\n",
    "make_dummy_data(fields, num_patient, improve_only = False, need_groups = need_splits, \n",
    "                    ibhs_improv_prob = 1, ibhs_disImprov_prob = 1, \n",
    "                    fbmhs_improv_prob = 1, fbmhs_disImprov_prob = 1,\n",
    "                    file_name = name, dis = 'uniform',\n",
    "                    improv = [0,1,2,3], disImprov = [0,-1,-2,-3])\n"
   ]
  },
  {
   "cell_type": "markdown",
   "metadata": {},
   "source": [
    "#### Validate Dummy Data 6<a name=\"validate_dummy_data_6\"></a> "
   ]
  },
  {
   "cell_type": "code",
   "execution_count": 157,
   "metadata": {},
   "outputs": [
    {
     "data": {
      "text/html": [
       "<div>\n",
       "<style scoped>\n",
       "    .dataframe tbody tr th:only-of-type {\n",
       "        vertical-align: middle;\n",
       "    }\n",
       "\n",
       "    .dataframe tbody tr th {\n",
       "        vertical-align: top;\n",
       "    }\n",
       "\n",
       "    .dataframe thead th {\n",
       "        text-align: right;\n",
       "    }\n",
       "</style>\n",
       "<table border=\"1\" class=\"dataframe\">\n",
       "  <thead>\n",
       "    <tr style=\"text-align: right;\">\n",
       "      <th></th>\n",
       "      <th>number_of_item_is_1</th>\n",
       "      <th>number_of_item_is_-1</th>\n",
       "      <th>number_of_item_is_betweem_1_and_-1</th>\n",
       "    </tr>\n",
       "  </thead>\n",
       "  <tbody>\n",
       "    <tr>\n",
       "      <td>Items 1-30</td>\n",
       "      <td>17</td>\n",
       "      <td>13</td>\n",
       "      <td>0</td>\n",
       "    </tr>\n",
       "    <tr>\n",
       "      <td>Items 31-60</td>\n",
       "      <td>15</td>\n",
       "      <td>15</td>\n",
       "      <td>0</td>\n",
       "    </tr>\n",
       "    <tr>\n",
       "      <td>Items 61-90</td>\n",
       "      <td>13</td>\n",
       "      <td>17</td>\n",
       "      <td>0</td>\n",
       "    </tr>\n",
       "  </tbody>\n",
       "</table>\n",
       "</div>"
      ],
      "text/plain": [
       "             number_of_item_is_1  number_of_item_is_-1  \\\n",
       "Items 1-30                    17                    13   \n",
       "Items 31-60                   15                    15   \n",
       "Items 61-90                   13                    17   \n",
       "\n",
       "             number_of_item_is_betweem_1_and_-1  \n",
       "Items 1-30                                    0  \n",
       "Items 31-60                                   0  \n",
       "Items 61-90                                   0  "
      ]
     },
     "execution_count": 157,
     "metadata": {},
     "output_type": "execute_result"
    }
   ],
   "source": [
    "ibhs_dummy_6, fbmh_dummy_6 = import_data(\"dummy_dataset/dummy_group_6.csv\")\n",
    "x_item_6 = twosum_improvement_xneed_all(ibhs_dummy_6, fbmh_dummy_6, batch_num = 1, n = 1)\n",
    "validate_result(x_item_6, need_splits)"
   ]
  },
  {
   "cell_type": "markdown",
   "metadata": {},
   "source": [
    "### Dummy Data group 7 <a name=\"dummy_data_group_7\"></a>"
   ]
  },
  {
   "cell_type": "markdown",
   "metadata": {},
   "source": [
    "#### Generate Dummy Data Group 7<a name=\"generate_dummy_data_7\"></a>\n",
    "Group 7: 30 IBHS, 30 FBMHS, 30 random, only improvements, 200 patients"
   ]
  },
  {
   "cell_type": "code",
   "execution_count": 158,
   "metadata": {},
   "outputs": [],
   "source": [
    "num_patient = 200\n",
    "need_splits = [30,60,90]\n",
    "fields_need = [str(i+1) for i in range(need_splits[-1])]\n",
    "fields = ['client_id', 'Program'] + fields_need\n",
    "name = 'dummy_dataset/dummy_group_7.csv'\n",
    "make_dummy_data(fields, num_patient, improve_only = True, need_groups = need_splits, \n",
    "                    ibhs_improv_prob = 1, ibhs_disImprov_prob = 1, \n",
    "                    fbmhs_improv_prob = 1, fbmhs_disImprov_prob = 1,\n",
    "                    file_name = name, dis = 'uniform',\n",
    "                    improv = [0,1,2,3], disImprov = [0,-1,-2,-3])\n"
   ]
  },
  {
   "cell_type": "markdown",
   "metadata": {},
   "source": [
    "#### Validate Dummy Data 7<a name=\"validate_dummy_data_7\"></a> "
   ]
  },
  {
   "cell_type": "code",
   "execution_count": 159,
   "metadata": {},
   "outputs": [
    {
     "data": {
      "text/html": [
       "<div>\n",
       "<style scoped>\n",
       "    .dataframe tbody tr th:only-of-type {\n",
       "        vertical-align: middle;\n",
       "    }\n",
       "\n",
       "    .dataframe tbody tr th {\n",
       "        vertical-align: top;\n",
       "    }\n",
       "\n",
       "    .dataframe thead th {\n",
       "        text-align: right;\n",
       "    }\n",
       "</style>\n",
       "<table border=\"1\" class=\"dataframe\">\n",
       "  <thead>\n",
       "    <tr style=\"text-align: right;\">\n",
       "      <th></th>\n",
       "      <th>number_of_item_is_1</th>\n",
       "      <th>number_of_item_is_-1</th>\n",
       "      <th>number_of_item_is_betweem_1_and_-1</th>\n",
       "    </tr>\n",
       "  </thead>\n",
       "  <tbody>\n",
       "    <tr>\n",
       "      <td>Items 1-30</td>\n",
       "      <td>0</td>\n",
       "      <td>30</td>\n",
       "      <td>0</td>\n",
       "    </tr>\n",
       "    <tr>\n",
       "      <td>Items 31-60</td>\n",
       "      <td>30</td>\n",
       "      <td>0</td>\n",
       "      <td>0</td>\n",
       "    </tr>\n",
       "    <tr>\n",
       "      <td>Items 61-90</td>\n",
       "      <td>14</td>\n",
       "      <td>16</td>\n",
       "      <td>0</td>\n",
       "    </tr>\n",
       "  </tbody>\n",
       "</table>\n",
       "</div>"
      ],
      "text/plain": [
       "             number_of_item_is_1  number_of_item_is_-1  \\\n",
       "Items 1-30                     0                    30   \n",
       "Items 31-60                   30                     0   \n",
       "Items 61-90                   14                    16   \n",
       "\n",
       "             number_of_item_is_betweem_1_and_-1  \n",
       "Items 1-30                                    0  \n",
       "Items 31-60                                   0  \n",
       "Items 61-90                                   0  "
      ]
     },
     "execution_count": 159,
     "metadata": {},
     "output_type": "execute_result"
    }
   ],
   "source": [
    "ibhs_dummy_7, fbmh_dummy_7 = import_data(\"dummy_dataset/dummy_group_7.csv\")\n",
    "x_item_7 = twosum_improvement_xneed_all(ibhs_dummy_7, fbmh_dummy_7, batch_num = 1, n = 1)\n",
    "validate_result(x_item_7, need_splits)"
   ]
  },
  {
   "cell_type": "markdown",
   "metadata": {},
   "source": [
    "### Dummy Data group 8 <a name=\"dummy_data_group_8\"></a>"
   ]
  },
  {
   "cell_type": "markdown",
   "metadata": {},
   "source": [
    "#### Generate Dummy Data Group 8<a name=\"generate_dummy_data_8\"></a>\n",
    "Group 8: 30 IBHS, 30 FBMHS, 30 random, both improvements and disimprovements, 200 patients"
   ]
  },
  {
   "cell_type": "code",
   "execution_count": 170,
   "metadata": {},
   "outputs": [],
   "source": [
    "num_patient = 200\n",
    "need_splits = [30,60,90]\n",
    "fields_need = [str(i+1) for i in range(need_splits[-1])]\n",
    "fields = ['client_id', 'Program'] + fields_need\n",
    "name = 'dummy_dataset/dummy_group_8.csv'\n",
    "make_dummy_data(fields, num_patient, improve_only = False, need_groups = need_splits, \n",
    "                    ibhs_improv_prob = 1, ibhs_disImprov_prob = 1, \n",
    "                    fbmhs_improv_prob = 1, fbmhs_disImprov_prob = 1,\n",
    "                    file_name = name, dis = 'uniform',\n",
    "                    improv = [0,1,2,3], disImprov = [0,-1,-2,-3])\n"
   ]
  },
  {
   "cell_type": "markdown",
   "metadata": {},
   "source": [
    "#### Validate Dummy Data 8<a name=\"validate_dummy_data_8\"></a> "
   ]
  },
  {
   "cell_type": "code",
   "execution_count": 171,
   "metadata": {},
   "outputs": [
    {
     "data": {
      "text/html": [
       "<div>\n",
       "<style scoped>\n",
       "    .dataframe tbody tr th:only-of-type {\n",
       "        vertical-align: middle;\n",
       "    }\n",
       "\n",
       "    .dataframe tbody tr th {\n",
       "        vertical-align: top;\n",
       "    }\n",
       "\n",
       "    .dataframe thead th {\n",
       "        text-align: right;\n",
       "    }\n",
       "</style>\n",
       "<table border=\"1\" class=\"dataframe\">\n",
       "  <thead>\n",
       "    <tr style=\"text-align: right;\">\n",
       "      <th></th>\n",
       "      <th>number_of_item_is_1</th>\n",
       "      <th>number_of_item_is_-1</th>\n",
       "      <th>number_of_item_is_betweem_1_and_-1</th>\n",
       "    </tr>\n",
       "  </thead>\n",
       "  <tbody>\n",
       "    <tr>\n",
       "      <td>Items 1-30</td>\n",
       "      <td>7</td>\n",
       "      <td>23</td>\n",
       "      <td>0</td>\n",
       "    </tr>\n",
       "    <tr>\n",
       "      <td>Items 31-60</td>\n",
       "      <td>19</td>\n",
       "      <td>11</td>\n",
       "      <td>0</td>\n",
       "    </tr>\n",
       "    <tr>\n",
       "      <td>Items 61-90</td>\n",
       "      <td>21</td>\n",
       "      <td>9</td>\n",
       "      <td>0</td>\n",
       "    </tr>\n",
       "  </tbody>\n",
       "</table>\n",
       "</div>"
      ],
      "text/plain": [
       "             number_of_item_is_1  number_of_item_is_-1  \\\n",
       "Items 1-30                     7                    23   \n",
       "Items 31-60                   19                    11   \n",
       "Items 61-90                   21                     9   \n",
       "\n",
       "             number_of_item_is_betweem_1_and_-1  \n",
       "Items 1-30                                    0  \n",
       "Items 31-60                                   0  \n",
       "Items 61-90                                   0  "
      ]
     },
     "execution_count": 171,
     "metadata": {},
     "output_type": "execute_result"
    }
   ],
   "source": [
    "ibhs_dummy_8, fbmh_dummy_8 = import_data(\"dummy_dataset/dummy_group_8.csv\")\n",
    "x_item_8 = twosum_improvement_xneed_all(ibhs_dummy_8, fbmh_dummy_8, batch_num = 1, n = 1)\n",
    "validate_result(x_item_8, need_splits)"
   ]
  },
  {
   "cell_type": "code",
   "execution_count": null,
   "metadata": {},
   "outputs": [],
   "source": []
  }
 ],
 "metadata": {
  "kernelspec": {
   "display_name": "Python 3",
   "language": "python",
   "name": "python3"
  },
  "language_info": {
   "codemirror_mode": {
    "name": "ipython",
    "version": 3
   },
   "file_extension": ".py",
   "mimetype": "text/x-python",
   "name": "python",
   "nbconvert_exporter": "python",
   "pygments_lexer": "ipython3",
   "version": "3.7.4"
  }
 },
 "nbformat": 4,
 "nbformat_minor": 4
}
